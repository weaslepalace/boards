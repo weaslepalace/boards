{
 "cells": [
  {
   "cell_type": "markdown",
   "metadata": {},
   "source": [
    "# Current Transformer Simulation"
   ]
  },
  {
   "cell_type": "markdown",
   "metadata": {},
   "source": [
    "## Boilerplate Code"
   ]
  },
  {
   "cell_type": "markdown",
   "metadata": {},
   "source": [
    "NgSpiceShared must be a singleton and therefore needs to be instantiated with new_instance() and not __init__(). The python environment needs to be in a clean state (reset) when running the below cell, or a mysterious error will occur."
   ]
  },
  {
   "cell_type": "code",
   "execution_count": 1,
   "metadata": {},
   "outputs": [],
   "source": [
    "from PySpice.Spice.NgSpice.Shared import NgSpiceShared\n",
    "import os\n",
    "\n",
    "NgSpiceShared.LIBRARY_PATH = os.path.join(os.getenv(\"HOME\"), \".local\", \"lib\", \"lib\", \"libngspice.so\")\n",
    "ngspice = NgSpiceShared.new_instance()"
   ]
  },
  {
   "cell_type": "markdown",
   "metadata": {},
   "source": [
    "## CT Model (AS1100)\n",
    "\n",
    "This is what I got when I asked ChatGPT for a model based on a the specs in a datasheet. It's likely that none of this is correct."
   ]
  },
  {
   "cell_type": "code",
   "execution_count": 2,
   "metadata": {},
   "outputs": [],
   "source": [
    "current_transformer = \"\"\"\n",
    ".title Current Transformer Model for Talema Group AC1100\n",
    "\n",
    ".SUBCKT AC1100 1 2 3 4\n",
    "* Parameters:\n",
    "* Primary current (Ip) = 100A\n",
    "* Turns ratio (N) = 1000:1\n",
    "* Rdc (Secondary Winding Resistance) = 21.3 Ohms\n",
    "* Iex (Exciting current) = 1.740mA\n",
    "* Vex (Voltage across secondary) = 12V\n",
    "* RCF (not clear, but assumed to be related to core loss or core magnetization factor)\n",
    "* Secondary load resistances (Rl)\n",
    "\n",
    "* Primary Side\n",
    "Lp 1 2 100uH        ; Define the inductance of the primary side (hypothetical value)\n",
    "\n",
    "* Turns Ratio \n",
    "* Use an ideal transformer with a turns ratio of 1000:1\n",
    "K1 Lp Ls 1000        ; Transformer ratio of 1000:1 (primary:secondary)\n",
    "\n",
    "* Secondary Side\n",
    "* Rs = 21.3 Ohms is the DC resistance of the secondary winding\n",
    "Ls 3 N1 100uH       ; Secondary inductance (hypothetical, needs datasheet for exact value)\n",
    "Rs N1 4 21.3        ; Resistance of secondary winding\n",
    "Iex 3 4 DC 1.740mA  ; Exciting current modeled as a current source\n",
    ".ENDS\n",
    "\n",
    "Rl S2 0 100          ; Load resistance (can be modified for different Rl values)\n",
    "\n",
    "* Test different Rl values:\n",
    "* Rl = 100, 500, 2k, 5k Ohms as per datasheet\n",
    "\n",
    "* Analysis\n",
    ".tran 0.1ms 1ms          ; Time domain transient analysis\n",
    ".ac dec 10 1Hz 100kHz    ; Frequency sweep\n",
    "\n",
    ".end\n",
    "\"\"\""
   ]
  },
  {
   "cell_type": "code",
   "execution_count": 4,
   "metadata": {},
   "outputs": [],
   "source": [
    "ngspice.load_circuit(current_transformer)\n",
    "ngspice.run()"
   ]
  },
  {
   "cell_type": "code",
   "execution_count": 6,
   "metadata": {},
   "outputs": [
    {
     "name": "stderr",
     "output_type": "stream",
     "text": [
      "Bad element line, looking for word 1/2:\n",
      "SOR_SWp     CLAMP 55 CLAMP 55  S_VSWITCH_1\n",
      "                               ^\n",
      "Parse error on:\n",
      "SOR_SWp     CLAMP 55 CLAMP 55  S_VSWITCH_1\n",
      "Bad element line, looking for word 1/2:\n",
      "SOR_SWn     56 CLAMP 56 CLAMP  S_VSWITCH_2\n",
      "                               ^\n",
      "Parse error on:\n",
      "SOR_SWn     56 CLAMP 56 CLAMP  S_VSWITCH_2\n",
      "Bad element line, looking for word 1/2:\n",
      "S1          28 29 SW_OL MID  S_VSWITCH_3\n",
      "                             ^\n",
      "Parse error on:\n",
      "S1          28 29 SW_OL MID  S_VSWITCH_3\n",
      "Bad element line, looking for word 1/2:\n",
      "S7          VEE OUT VEE OUT  S_VSWITCH_4\n",
      "                             ^\n",
      "Parse error on:\n",
      "S7          VEE OUT VEE OUT  S_VSWITCH_4\n",
      "Bad element line, looking for word 1/2:\n",
      "S6          OUT VCC OUT VCC  S_VSWITCH_5\n",
      "                             ^\n",
      "Parse error on:\n",
      "S6          OUT VCC OUT VCC  S_VSWITCH_5\n",
      "Bad element line, looking for word 3/4:\n",
      "E1 VOUT+ MID VALUE={IF(V(VIN+,MID)<V(VEE,MID)-0.3,V(VCC,MID),V(VIN+,MID))}\n",
      "             ^\n",
      "Parse error on:\n",
      "E1 VOUT+ MID VALUE={IF(V(VIN+,MID)<V(VEE,MID)-0.3,V(VCC,MID),V(VIN+,MID))}\n",
      "Bad element line, looking for word 3/4:\n",
      "E2 VOUT- MID VALUE={IF(V(VIN-,MID)<V(VEE,MID)-0.3,V(VCC,MID),V(VIN-,MID))}\n",
      "             ^\n",
      "Parse error on:\n",
      "E2 VOUT- MID VALUE={IF(V(VIN-,MID)<V(VEE,MID)-0.3,V(VCC,MID),V(VIN-,MID))}\n",
      "Bad element line, looking for word 3/4:\n",
      "G1 IOUT+ IOUT- VALUE={LIMIT(GAIN*V(VC+,VC-),INEG,IPOS)}\n",
      "               ^\n",
      "Parse error on:\n",
      "G1 IOUT+ IOUT- VALUE={LIMIT(GAIN*V(VC+,VC-),INEG,IPOS)}\n",
      "Bad element line, looking for word 3/4:\n",
      "G1 IOUT+ IOUT- VALUE={LIMIT(GAIN*V(EN,MID)*V(VC+,VC-),INEG,IPOS)}\n",
      "               ^\n",
      "Parse error on:\n",
      "G1 IOUT+ IOUT- VALUE={LIMIT(GAIN*V(EN,MID)*V(VC+,VC-),INEG,IPOS)}\n",
      "Bad element line, looking for word 3/4:\n",
      "G1 IOUT+ IOUT- VALUE={LIMIT(GAIN*V(VC+,VC-),INEG,IPOS)}\n",
      "               ^\n",
      "Parse error on:\n",
      "G1 IOUT+ IOUT- VALUE={LIMIT(GAIN*V(VC+,VC-),INEG,IPOS)}\n",
      "Bad element line, looking for word 3/4:\n",
      "G1 IOUT+ IOUT- VALUE={LIMIT(GAIN*V(VC+,VC-),INEG,IPOS)}\n",
      "               ^\n",
      "Parse error on:\n",
      "G1 IOUT+ IOUT- VALUE={LIMIT(GAIN*V(VC+,VC-),INEG,IPOS)}\n",
      "Bad element line, looking for word 3/4:\n",
      "G1 IOUT+ IOUT- VALUE={LIMIT(GAIN*V(VC+,VC-),INEG,IPOS)}\n",
      "               ^\n",
      "Parse error on:\n",
      "G1 IOUT+ IOUT- VALUE={LIMIT(GAIN*V(VC+,VC-),INEG,IPOS)}\n",
      "Bad element line, looking for word 3/4:\n",
      "G1 IOUT+ IOUT- VALUE={LIMIT(GAIN*V(VC+,VC-),INEG,IPOS)}\n",
      "               ^\n",
      "Parse error on:\n",
      "G1 IOUT+ IOUT- VALUE={LIMIT(GAIN*V(VC+,VC-),INEG,IPOS)}\n"
     ]
    }
   ],
   "source": [
    "from PySpice.Spice.Library import SpiceLibrary\n",
    "spice_library = SpiceLibrary(\"../Library/Spice\")"
   ]
  },
  {
   "cell_type": "code",
   "execution_count": null,
   "metadata": {},
   "outputs": [],
   "source": []
  },
  {
   "cell_type": "code",
   "execution_count": null,
   "metadata": {},
   "outputs": [],
   "source": []
  }
 ],
 "metadata": {
  "kernelspec": {
   "display_name": "Python 3",
   "language": "python",
   "name": "python3"
  },
  "language_info": {
   "codemirror_mode": {
    "name": "ipython",
    "version": 3
   },
   "file_extension": ".py",
   "mimetype": "text/x-python",
   "name": "python",
   "nbconvert_exporter": "python",
   "pygments_lexer": "ipython3",
   "version": "3.12.5"
  }
 },
 "nbformat": 4,
 "nbformat_minor": 2
}
